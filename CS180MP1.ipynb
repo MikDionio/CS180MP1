{
 "cells": [
  {
   "cell_type": "markdown",
   "metadata": {},
   "source": [
    "<h1>CS180 MP1</h1>"
   ]
  },
  {
   "cell_type": "markdown",
   "metadata": {},
   "source": [
    "<h2>Imported libraries</h2>"
   ]
  },
  {
   "cell_type": "code",
   "execution_count": null,
   "metadata": {},
   "outputs": [],
   "source": [
    "#Imported libraries\n",
    "#import math\n",
    "import time\n",
    "import heapq\n",
    "import matplotlib.patches\n",
    "from shapely.geometry import Point, Polygon, LinearRing\n",
    "from matplotlib import pyplot as plt"
   ]
  },
  {
   "cell_type": "markdown",
   "metadata": {},
   "source": [
    "<h2>Miscellaneous Functions</h2>"
   ]
  },
  {
   "cell_type": "code",
   "execution_count": null,
   "metadata": {},
   "outputs": [],
   "source": [
    "#Functions\n",
    "\n",
    "#Obtain input file name from user or as a parameter to the function, returns text from entire file, ensure input file is in same directory\n",
    "def fileInput():\n",
    "    fileName = input(\"Input filename: \")\n",
    "    f = open(fileName, 'r')\n",
    "    fileTxt = f.read()\n",
    "    f.close()\n",
    "    return fileTxt\n",
    "\n",
    "#Turns a string of \"(x,y)\" into a tuple of (x,y)\n",
    "def textToTuple(text):\n",
    "    text = text.replace(\"(\",\"\")\n",
    "    text = text.replace(\")\",\"\")\n",
    "    text = text.replace(\"\\n\",\"\")\n",
    "    text = text.split(\",\")\n",
    "    # print(text)\n",
    "    return ((int(text[0]),int(text[1])))"
   ]
  },
  {
   "cell_type": "markdown",
   "metadata": {},
   "source": [
    "<h1>Input and Parsing</h1>"
   ]
  },
  {
   "cell_type": "markdown",
   "metadata": {},
   "source": [
    "<p>The Input function takes in the fileTxt and parses it to obtain the Start Position, the Goal Positon and the Polygon vertices.</p>\n",
    "<p>The function returns an input array of tuples where input[0] is the start position, input[1] is the goal positon, and the remaining entries are arrays of vertices for each polygon</p>"
   ]
  },
  {
   "cell_type": "code",
   "execution_count": null,
   "metadata": {},
   "outputs": [],
   "source": [
    "def Input(fileTxt):\n",
    "\n",
    "    #Divide input text by line\n",
    "    fileTxt = fileTxt.split('\\n')\n",
    "\n",
    "    #First line is start pos\n",
    "    startPos = textToTuple(fileTxt.pop(0))\n",
    "\n",
    "    #Next line is goal pos\n",
    "    goalPos = textToTuple(fileTxt.pop(0))\n",
    "\n",
    "    #Remove potential empty lines from of list\n",
    "    i = 0\n",
    "    for t in fileTxt:\n",
    "        if (t == \"\"):\n",
    "            fileTxt.pop(i)\n",
    "        i = i + 1\n",
    "    \n",
    "    #Obtain polygon vertices\n",
    "    polygons = []\n",
    "    i = 0\n",
    "    for p in fileTxt:\n",
    "        p = p.replace(\"(\",\"\")\n",
    "        p = p.replace(\")\",\"\")\n",
    "        p = p.split(\",\")\n",
    "        k = 0\n",
    "        vertices = []\n",
    "        while(k*2 < len(p)):\n",
    "            vertices.append((int(p[2*k]),int(p[2*k+1])))\n",
    "            k = k + 1\n",
    "        polygons.append(vertices)\n",
    "        i = i + 1\n",
    "\n",
    "    #Print inputs\n",
    "    print(\"Start Position: \" + str(startPos))\n",
    "    print(\"Goal Position: \" + str(goalPos))\n",
    "    i = 1\n",
    "    for p in polygons:\n",
    "        print(\"Polygon \" + str(i) + \" vertices: \" + str(p))\n",
    "        i = i + 1\n",
    "\n",
    "    inputs = []\n",
    "    inputs.append(startPos)\n",
    "    inputs.append(goalPos)\n",
    "    for p in polygons:\n",
    "        inputs.append(p)\n",
    "\n",
    "    return inputs"
   ]
  },
  {
   "cell_type": "markdown",
   "metadata": {},
   "source": [
    "<h1>Uninformed Search Related Functions</h1>\n",
    "<p>Functions used in conjunction with BFS and DFS</p>"
   ]
  },
  {
   "cell_type": "markdown",
   "metadata": {},
   "source": [
    "<h2>initMapUninformed</h2>\n",
    "<p>initMapUninformed initializes a 100x200 array and sets each value to 0, indicating that all spaces are unvisited</p>"
   ]
  },
  {
   "cell_type": "code",
   "execution_count": null,
   "metadata": {},
   "outputs": [],
   "source": [
    "def initMapUninformed(polygons, outlines):\n",
    "    map = [[] for i in range(200)]\n",
    "\n",
    "    #List all values for map as 0, meaning they have not been visited yet or -1 if they are inside a polygon\n",
    "    for i in range (200):\n",
    "        for j in range(100):\n",
    "            map[i].append(0)\n",
    "            p = Point([i,j])\n",
    "            for polygon in polygons:\n",
    "                if(p.within(polygon)):\n",
    "                    map[i][j] = -1\n",
    "            for outline in outlines:\n",
    "                if(p.within(outline)):\n",
    "                    map[i][j] = -1\n",
    "\n",
    "    return map"
   ]
  },
  {
   "cell_type": "markdown",
   "metadata": {},
   "source": [
    "<h2>getPathUninformed</h2>\n",
    "<p>For both the BFS and DFS implementation in this program, each visited node in the 100x200 array is given the position of its parent node, that is, the node that was expanded before the visited node was visited. This function makes use of that to obtain the path. This function starts at the goal position and inspects its value to obtain its parent node, whose position is inserted at the start of the path array. The function then goes to the parent node to obtain the position of the 'grandparent' node and again inserts it into the path array. The function loops this until it arrives at the start node. It then returns the path array.</p>"
   ]
  },
  {
   "cell_type": "code",
   "execution_count": null,
   "metadata": {},
   "outputs": [],
   "source": [
    "def getPathUninformed(S,G,map):\n",
    "    path = []\n",
    "    path.append(G)\n",
    "    p = G\n",
    "    while(path[0] != S):\n",
    "        p = (map[p[0]][p[1]])\n",
    "        path.insert(0,p)\n",
    "\n",
    "    return path"
   ]
  },
  {
   "cell_type": "markdown",
   "metadata": {},
   "source": [
    "<h1>Informed Search Related Functions and Classes</h1>\n",
    "<p>Functions used in conjunction with A*</p>"
   ]
  },
  {
   "cell_type": "markdown",
   "metadata": {},
   "source": [
    "<h2>map_node</h2>\n",
    "<p>Each point on the map must be able to store the following:</p>\n",
    "<ul>\n",
    "    <li>h - heuristic value</li>\n",
    "    <li>g - current cost, for computing f of discovered nodes</li>\n",
    "    <li>f - set to g + h, total A* cost of node</li>\n",
    "    <li>x, y - the coordinates of the point</li>\n",
    "    <li>pred_horizontal, pred_up_right - two booleans that indicate the relative direction of the point's path predecessor</li>\n",
    "    <li>time - a tuple (step_number, order) that stores the point's order of entry into the heap</li>\n",
    "    <li>is_discovered - a boolean initially set to False, becomes True once the point is visited once. This is used later in conditional logic to prevent access of uninitialized properties.</li>\n",
    "    <li>is_expanded - a boolean initially set to False, becomes True once the point is expanded. After this the object must not be altered any further.</li>\n",
    "    <li>is_valid - a boolean initially set to True. If a point is inside a polygon or outside the bounds or the area, this should be set to False.</li>\n",
    "</ul>"
   ]
  },
  {
   "cell_type": "code",
   "execution_count": null,
   "metadata": {},
   "outputs": [],
   "source": [
    "class map_node:\n",
    "    # properties: h, g, f, x, y, pred_horizontal, pred_up_right, time(step, order), is_discovered, is_expanded, is_valid, is_S\n",
    "    def __init__(self, h, x, y):\n",
    "        self.h = h\n",
    "        self.x = x\n",
    "        self.y = y\n",
    "        self.is_discovered = False\n",
    "        self.is_expanded = False\n",
    "        self.is_valid = True\n",
    "        self.is_S = False\n",
    "    #this definition of lt results in a stable heapsort, as long as values for time are unique\n",
    "    def __lt__(self, other):\n",
    "        return (self.f, self.time) < (other.f, other.time)\n",
    "    def set_not_valid(self):\n",
    "        self.is_valid = False\n",
    "    \n",
    "    #pred_horizontal and pred_up_right form a two-boolean representation of a property that can be one of (up, down, right, left)\n",
    "    def disc_up(self):\n",
    "        self.pred_horizontal = False\n",
    "        self.pred_up_right = False\n",
    "    def disc_down(self):\n",
    "        self.pred_horizontal = False\n",
    "        self.pred_up_right = True\n",
    "    def disc_right(self):\n",
    "        self.pred_horizontal = True\n",
    "        self.pred_up_right = False\n",
    "    def disc_left(self):\n",
    "        self.pred_horizontal = True\n",
    "        self.pred_up_right = True\n",
    "    def discover(self, g, pred, time):\n",
    "        self.is_discovered = True\n",
    "        self.g = g\n",
    "        self.f = g + self.h\n",
    "        self.time = time\n",
    "        #store the relative coordinates of pred in the two pred_X booleans via the disc_X functions\n",
    "        if self.y > pred[1]:\n",
    "            self.disc_up()\n",
    "        elif self.y < pred[1]:\n",
    "            self.disc_down()\n",
    "        else:\n",
    "            if self.x > pred[0]:\n",
    "                self.disc_right()\n",
    "            else:\n",
    "                self.disc_left()\n",
    "                \n",
    "    def pred(self):\n",
    "        if self.is_S:  #point S has no predecessor\n",
    "            pred_x = self.x\n",
    "            pred_y = self.y\n",
    "        else:\n",
    "            if self.pred_horizontal:\n",
    "                pred_y = self.y\n",
    "                if self.pred_up_right:\n",
    "                    pred_x = self.x + 1\n",
    "                else:\n",
    "                    pred_x = self.x - 1\n",
    "            else:\n",
    "                pred_x = self.x\n",
    "                if self.pred_up_right:\n",
    "                    pred_y = self.y + 1\n",
    "                else:\n",
    "                    pred_y = self.y - 1\n",
    "        return (pred_x, pred_y)"
   ]
  },
  {
   "cell_type": "markdown",
   "metadata": {},
   "source": [
    "<h2>initMapInformed</h2>\n",
    "<p>initMapInformed initializes a 100x200 array and sets each point to a map_node with its corresponding heuristic value. The point is labeled not valid if it is unreachable (i.e. inside a polygon or outside the bounds)</p>"
   ]
  },
  {
   "cell_type": "code",
   "execution_count": null,
   "metadata": {},
   "outputs": [],
   "source": [
    "def initMapInformed(polygons, outlines, G):\n",
    "    map = [[] for i in range(200)]\n",
    "\n",
    "    #List all values for map as 0, meaning they have not been visited yet or -1 if they are inside a polygon\n",
    "    #(i, j) in (x, y)\n",
    "    for i in range (200):\n",
    "        for j in range(100):\n",
    "            #pythagorean:\n",
    "            #dx = G[0] - i\n",
    "            #dy = G[1] - j\n",
    "            #heuristic = math.hypot(dx, dy)   #don't forget to import math if switching to this\n",
    "            \n",
    "            #chebyshev:\n",
    "            dx = abs(i - G[0])\n",
    "            dy = abs(j - G[1])\n",
    "            #diagonal is the cost of a diagonal move, with respect to the heuristic. For the Chebyshev distance, this is 1.\n",
    "            diagonal = 1\n",
    "            heuristic = dx + dy + (diagonal - 2) * min(dx, dy)\n",
    "            p = map_node(heuristic, i, j)\n",
    "            map[i].append(p)\n",
    "            \n",
    "            p = Point([i,j])\n",
    "            for polygon in polygons:\n",
    "                if(p.within(polygon)):\n",
    "                    map[i][j].set_not_valid()\n",
    "            for outline in outlines:\n",
    "                if(p.within(outline)):\n",
    "                    map[i][j].set_not_valid()\n",
    "\n",
    "    return map"
   ]
  },
  {
   "cell_type": "markdown",
   "metadata": {},
   "source": [
    "<h2>getPathInformed</h2>\n",
    "<h3>FINISH THIS EXPLANATION</h3>\n",
    "<p>Lorem ipsum</p>\n",
    "<p>For both the BFS and DFS implementation in this program, each visited node in the 100x200 array is given the position of its parent node, that is, the node that was expanded before the visited node was visited. This function makes use of that to obtain the path. This function starts at the goal position and inspects its value to obtain its parent node, whose position is inserted at the start of the path array. The function then goes to the parent node to obtain the position of the 'grandparent' node and again inserts it into the path array. The function loops this until it arrives at the start node. It then returns the path array.</p>"
   ]
  },
  {
   "cell_type": "code",
   "execution_count": null,
   "metadata": {},
   "outputs": [],
   "source": [
    "def getPathInformed(S,G,map):\n",
    "    path = []\n",
    "    p = (G[0], G[1])\n",
    "    path.append(p)\n",
    "    while(path[0] != S):\n",
    "        p = (map[p[0]][p[1]].pred())\n",
    "        path.insert(0,p)\n",
    "\n",
    "    return path"
   ]
  },
  {
   "cell_type": "markdown",
   "metadata": {},
   "source": [
    "<h1>Search Algorithm Implementations</h1>"
   ]
  },
  {
   "cell_type": "markdown",
   "metadata": {},
   "source": [
    "<h2>Breadth First Search Implementation</h2>\n",
    "\n",
    "<p>The Breadth First Search implementation in this program expands each node by visiting the nodes to the left, to the right, above, and below the expanded node. This means that the resulting tree has a branching factor of 4. These visited nodes are then added to the end of the fringe. In order to keep track of the tree, the visited node's corresponding array element is given the value of its parent node's coordinates as a tuple. This also helps indicate that the node is visited, that is, the node's value in the array is != 0</p>"
   ]
  },
  {
   "cell_type": "code",
   "execution_count": null,
   "metadata": {},
   "outputs": [],
   "source": [
    "def BFS(S, G, map):\n",
    "    #Initialize fringe\n",
    "    expandedNodes = []\n",
    "    fringe = [S]\n",
    "    \n",
    "    if(G == S):#If start position is goal position, place start position as entry in map\n",
    "        map[S[0]][S[1]] = S\n",
    "    else:\n",
    "        while(1):\n",
    "            if not fringe:#If fringe is empty, algorithm has failed\n",
    "                break\n",
    "\n",
    "            #Else, get expand first entry of fringe\n",
    "            #n is the node to be expanded\n",
    "            n = fringe.pop(0)\n",
    "            expandedNodes.append(n)\n",
    "            \n",
    "            if(n == G): #If dequeued node is G, no need to expand further\n",
    "                break\n",
    "            \n",
    "            #Expand dequeued node into positions above, below, left and right of the expanded node\n",
    "            down = n[1] - 1\n",
    "            up = n[1] + 1\n",
    "            left = n[0] - 1\n",
    "            right = n[0] + 1\n",
    "\n",
    "            #If these nodes are valid, insert unvisisted nodes to fringe\n",
    "            if(200 >left >= 0):\n",
    "                if(map[left][n[1]] == 0):\n",
    "                    fringe.append((left,n[1]))\n",
    "                    map[left][n[1]] = n\n",
    "            if(0 <= right < 200):\n",
    "                if(map[right][n[1]] == 0):\n",
    "                    fringe.append((right,n[1]))\n",
    "                    map[right][n[1]] = n\n",
    "            if(100 > up >= 0):\n",
    "                if(map[n[0]][up] == 0):\n",
    "                    fringe.append((n[0],up))\n",
    "                    map[n[0]][up] = n\n",
    "            if(0 <= down < 100):\n",
    "                if(map[n[0]][down] == 0):\n",
    "                    fringe.append((n[0],down))\n",
    "                    map[n[0]][down] = n\n",
    "                    \n",
    "    print(\"Number of Expanded Nodes: \" + str(len(expandedNodes)))\n",
    "    return [map, expandedNodes]"
   ]
  },
  {
   "cell_type": "markdown",
   "metadata": {},
   "source": [
    "<h2>Depth First Search Implementation</h2>\n",
    "<p>The depth first search implementation is very similar to the Breadth First Search implementation, with the only difference being the visited nodes are inserted at the start of the fringe instead of at the end.</p>"
   ]
  },
  {
   "cell_type": "code",
   "execution_count": null,
   "metadata": {},
   "outputs": [],
   "source": [
    "def DFS(S, G, map):\n",
    "    expandedNodes = []\n",
    "    #Initialize fringe\n",
    "    fringe = [S]\n",
    "    \n",
    "    \n",
    "    if(G == S):#Check if current position is goal\n",
    "        map[S[0]][S[1]] = S\n",
    "    else:\n",
    "        while(1):\n",
    "            if not fringe:\n",
    "                break\n",
    "\n",
    "            #n is the node to be expanded\n",
    "            n = fringe.pop(0)\n",
    "            expandedNodes.append(n)\n",
    "            \n",
    "            #Check if dequeued node is G\n",
    "            if(n == G):\n",
    "                break\n",
    "            #Expand dequeued node\n",
    "            down = n[1] - 1\n",
    "            up = n[1] + 1\n",
    "            left = n[0] - 1\n",
    "            right = n[0] + 1\n",
    "\n",
    "            #Insert unvisisted nodes to fringe\n",
    "            if(200 > left >= 0):\n",
    "                if(map[left][n[1]] == 0):\n",
    "                    fringe.insert(0,(left, n[1]))\n",
    "                    map[left][n[1]] = n\n",
    "            if(0 <= right < 200):\n",
    "                if(map[right][n[1]] == 0):\n",
    "                    fringe.insert(0,(right,n[1]))\n",
    "                    map[right][n[1]] = n\n",
    "            if(100 > up >= 0):\n",
    "                if(map[n[0]][up] == 0):\n",
    "                    fringe.insert(0,(n[0],up))\n",
    "                    map[n[0]][up] = n\n",
    "            if(0 <= down < 100):\n",
    "                if(map[n[0]][down] == 0):\n",
    "                    fringe.insert(0,(n[0],down))\n",
    "                    map[n[0]][down] = n\n",
    "    \n",
    "    print(\"Number of Expanded Nodes: \" + str(len(expandedNodes)))\n",
    "    return [map, expandedNodes]"
   ]
  },
  {
   "cell_type": "markdown",
   "metadata": {},
   "source": [
    "<h2>A* Search Implementation</h2>\n",
    "\n",
    "<h3>FINISH THIS EXPLANATION TOO</h3>\n",
    "\n",
    "<p>The A* Search implementation in this program expands each node by visiting the nodes to the left, to the right, above, and below the expanded node. This means that the resulting tree has a branching factor of 4. These visited nodes are then added to the end of the fringe. In order to keep track of the tree, the visited node's corresponding array element is given the value of its parent node's coordinates as a tuple. This also helps indicate that the node is visited, that is, the node's value in the array is != 0</p>"
   ]
  },
  {
   "cell_type": "code",
   "execution_count": null,
   "metadata": {},
   "outputs": [],
   "source": [
    "def AStar(S, G, map):\n",
    "    expandedNodes = []\n",
    "    \n",
    "    if(G == S):#If start position is goal position, place start position as entry in map\n",
    "        map[S[0]][S[1]] = map_node(0, S[0], S[1])\n",
    "    else:\n",
    "        #Initialize fringe\n",
    "        S_map_node = map_node(0, S[0], S[1])\n",
    "        S_map_node.discover(0, S, (0, 0))\n",
    "        S_map_node.is_S = True\n",
    "        fringe = [S_map_node]\n",
    "        heapq.heapify(fringe)\n",
    "        pq_timer = 1\n",
    "        while(1):\n",
    "            #If fringe is empty, algorithm has failed\n",
    "            if not fringe:\n",
    "                return None\n",
    "\n",
    "            #Else, get expand first entry of fringe\n",
    "            #current is the node to be expanded\n",
    "            current = heapq.heappop(fringe)\n",
    "            expandedNodes.append(current)\n",
    "            \n",
    "            x = current.x\n",
    "            y = current.y\n",
    "            cost = current.g + 1\n",
    "            \n",
    "            if((x, y) == G): #If dequeued node is G, no need to expand further\n",
    "                break\n",
    "            \n",
    "            #Expand dequeued node into positions above, below, left and right of the expanded node\n",
    "            up = y + 1\n",
    "            down = y - 1\n",
    "            right = x + 1\n",
    "            left = x - 1\n",
    "            \n",
    "            \n",
    "            #If these nodes are valid, insert unvisisted nodes to fringe\n",
    "            if(200 >left >= 0):\n",
    "                if(map[left][y].is_valid and not map[left][y].is_expanded):#this for checking if node is not expanded\n",
    "                    if map[left][y].is_discovered:\n",
    "                        if cost < map[left][y].g:\n",
    "                            # must be called after the if because discover() sets is_discovered\n",
    "                            map[left][y].discover(cost, (x, y), (pq_timer, 0))\n",
    "                            fringe.sort()\n",
    "                    else:\n",
    "                        map[left][y].discover(cost, (x, y), (pq_timer, 0))\n",
    "                        heapq.heappush(fringe, map[left][y])\n",
    "            if(0 <= right < 200):\n",
    "                if(map[right][y].is_valid and not map[right][y].is_expanded):\n",
    "                    if map[right][y].is_discovered:\n",
    "                        if cost < map[right][y].g:\n",
    "                            map[right][y].discover(cost, (x, y), (pq_timer, 1))\n",
    "                            fringe.sort()\n",
    "                    else:\n",
    "                        map[right][y].discover(cost, (x, y), (pq_timer, 1))\n",
    "                        heapq.heappush(fringe, map[right][y])\n",
    "            if(100 > up >= 0):\n",
    "                if(map[x][up].is_valid and not map[x][up].is_expanded):\n",
    "                    if map[x][up].is_discovered:\n",
    "                        if cost < map[x][up].g:\n",
    "                            map[x][up].discover(cost, (x, y), (pq_timer, 2))\n",
    "                            fringe.sort()\n",
    "                    else:\n",
    "                        map[x][up].discover(cost, (x, y), (pq_timer, 2))\n",
    "                        heapq.heappush(fringe, map[x][up])\n",
    "            if(0 <= down < 100):\n",
    "                if(map[x][down].is_valid and not map[x][down].is_expanded):\n",
    "                    if map[x][down].is_discovered:\n",
    "                        if cost < map[x][down].g:\n",
    "                            map[x][down].discover(cost, (x, y), (pq_timer, 3))\n",
    "                            fringe.sort()\n",
    "                    else:\n",
    "                        map[x][down].discover(cost, (x, y), (pq_timer, 3))\n",
    "                        heapq.heappush(fringe, map[x][down])\n",
    "            pq_timer += 1\n",
    "    print(\"Number of Expanded Nodes: \" + str(len(expandedNodes)))\n",
    "    return [map, expandedNodes]"
   ]
  },
  {
   "cell_type": "markdown",
   "metadata": {},
   "source": [
    "<h1>Testing and Analysis</h1>"
   ]
  },
  {
   "cell_type": "markdown",
   "metadata": {},
   "source": [
    "<h2>Functions Used for Testing</h2>\n",
    "<p>These are the functions that are used for the test cases. These functions take in the filename and plot out the result of the search and the path.</p>"
   ]
  },
  {
   "cell_type": "markdown",
   "metadata": {},
   "source": [
    "<h3>BFS Test Function</h3>"
   ]
  },
  {
   "cell_type": "code",
   "execution_count": null,
   "metadata": {
    "scrolled": true
   },
   "outputs": [],
   "source": [
    "def BFSTest(fileName):\n",
    "    print(\"BFS for \" + fileName)\n",
    "    fig = plt.figure(1, figsize = (15,7))\n",
    "    ax = fig.add_subplot(111)\n",
    "    ax.set_title(\"BFS for \" + fileName)\n",
    "    \n",
    "    f = open(fileName, 'r')\n",
    "    fileTxt = f.read()\n",
    "    f.close()\n",
    "\n",
    "    input = Input(fileTxt)\n",
    "    S = input.pop(0)\n",
    "    G = input.pop(0)\n",
    "\n",
    "    ax.plot(S[0],S[1], 'o', label = 'Start')\n",
    "    ax.plot(G[0],G[1], 'o', label = 'Goal')\n",
    "    \n",
    "    polygons = []\n",
    "    outlines = []\n",
    "\n",
    "    #Coordinates inside and on the perimiters of polygons are plotted for better visualization\n",
    "    i = 1\n",
    "    for p in input:\n",
    "        polygon = Polygon(p)\n",
    "        outline = LinearRing(p)\n",
    "        l,w = outline.xy\n",
    "        ax.fill(l,w, label = 'Polygon ' + str(i),fill=True, alpha = 0.5)\n",
    "        polygons.append(polygon)\n",
    "        outlines.append(outline)\n",
    "        i = i + 1\n",
    "\n",
    "    map = initMapUninformed(polygons, outlines)\n",
    "    \n",
    "    start = time.time()\n",
    "    results = BFS(S, G, map)\n",
    "    end = time.time()\n",
    "\n",
    "    map = results[0]\n",
    "    expandedNodes = results[1]\n",
    "\n",
    "    xExpanded = []\n",
    "    yExpanded = []\n",
    "    \n",
    "    for e in expandedNodes:\n",
    "        xExpanded.append(e[0])\n",
    "        yExpanded.append(e[1])\n",
    "\n",
    "    ax.plot(xExpanded,yExpanded, ',', label = \"Expanded Nodes\")\n",
    "    print(\"Time for search: \" + str(end-start))\n",
    "    \n",
    "    #if goal is unvisited, the search has failed\n",
    "    if(map[G[0]][G[1]] == 0):\n",
    "        print(\"No solution.\")\n",
    "    else:\n",
    "        path = getPathUninformed(S, G, map)\n",
    "        print(\"Path cost: \" + str(len(path)))\n",
    "    \n",
    "        x = []\n",
    "        y = []\n",
    "        for p in path:\n",
    "            x.append(p[0])\n",
    "            y.append(p[1])\n",
    "        ax.plot(x,y, label = 'Path')\n",
    "    \n",
    "\n",
    "    ax.set_xlim(0,199)\n",
    "    ax.set_ylim(0,99)\n",
    "    ax.legend(bbox_to_anchor=(1, 1))"
   ]
  },
  {
   "cell_type": "markdown",
   "metadata": {},
   "source": [
    "<h3>DFS Test Function</h3>"
   ]
  },
  {
   "cell_type": "code",
   "execution_count": null,
   "metadata": {},
   "outputs": [],
   "source": [
    "def DFSTest(fileName):\n",
    "    print(\"DFS for \" + fileName)\n",
    "    fig = plt.figure(1, figsize = (15,7))\n",
    "    ax = fig.add_subplot(111)\n",
    "    ax.set_title(\"DFS for \" + fileName)\n",
    "    \n",
    "    f = open(fileName, 'r')\n",
    "    fileTxt = f.read()\n",
    "    f.close()\n",
    "\n",
    "    input = Input(fileTxt)\n",
    "    S = input.pop(0)\n",
    "    G = input.pop(0)\n",
    "\n",
    "    ax.plot(S[0],S[1], 'o', label = 'Start')\n",
    "    ax.plot(G[0],G[1], 'o', label = 'Goal')\n",
    "    \n",
    "    polygons = []\n",
    "    outlines = []\n",
    "\n",
    "    #Coordinates inside and on the perimiters of polygons are plotted for better visualization\n",
    "    i = 1\n",
    "    for p in input:\n",
    "        polygon = Polygon(p)\n",
    "        outline = LinearRing(p)\n",
    "        l,w = outline.xy\n",
    "        ax.fill(l,w, label = 'Polygon ' + str(i),fill=True, alpha = 0.5)\n",
    "        polygons.append(polygon)\n",
    "        outlines.append(outline)\n",
    "        i = i + 1\n",
    "\n",
    "    map = initMapUninformed(polygons, outlines)\n",
    "\n",
    "    start = time.time()\n",
    "    results = DFS(S, G, map)\n",
    "    end = time.time()\n",
    "\n",
    "    map = results[0]\n",
    "    expandedNodes = results[1]\n",
    "\n",
    "    xExpanded = []\n",
    "    yExpanded = []\n",
    "    \n",
    "    for e in expandedNodes:\n",
    "        xExpanded.append(e[0])\n",
    "        yExpanded.append(e[1])\n",
    "\n",
    "    ax.plot(xExpanded,yExpanded, ',', label = \"Expanded Nodes\")\n",
    "    print(\"Time for search: \" + str(end-start))\n",
    "    \n",
    "    #if goal is unvisited, the search has failed\n",
    "    if(map[G[0]][G[1]] == 0):\n",
    "        print(\"No solution.\")\n",
    "    else:\n",
    "        path = getPathUninformed(S, G, map)\n",
    "        print(\"Path cost: \" + str(len(path)))\n",
    "    \n",
    "        x = []\n",
    "        y = []\n",
    "        for p in path:\n",
    "            x.append(p[0])\n",
    "            y.append(p[1])\n",
    "        ax.plot(x,y, label = 'Path')\n",
    "    \n",
    "\n",
    "    ax.set_xlim(0,199)\n",
    "    ax.set_ylim(0,99)\n",
    "    ax.legend(bbox_to_anchor=(1, 1))"
   ]
  },
  {
   "cell_type": "markdown",
   "metadata": {},
   "source": [
    "<h3>A* Test Function</h3>"
   ]
  },
  {
   "cell_type": "code",
   "execution_count": null,
   "metadata": {},
   "outputs": [],
   "source": [
    "def AStarTest(fileName):\n",
    "    print(\"A* for \" + fileName)\n",
    "    fig = plt.figure(1, figsize = (15,7))\n",
    "    ax = fig.add_subplot(111)\n",
    "    ax.set_title(\"A* for \" + fileName)\n",
    "    \n",
    "    f = open(fileName, 'r')\n",
    "    fileTxt = f.read()\n",
    "    f.close()\n",
    "\n",
    "    input = Input(fileTxt)\n",
    "    S = input.pop(0)\n",
    "    G = input.pop(0)\n",
    "\n",
    "    ax.plot(S[0],S[1], 'o', label = 'Start')\n",
    "    ax.plot(G[0],G[1], 'o', label = 'Goal')\n",
    "    \n",
    "    polygons = []\n",
    "    outlines = []\n",
    "\n",
    "    #Coordinates inside and on the perimiters of polygons are plotted for better visualization\n",
    "    i = 1\n",
    "    for p in input:\n",
    "        polygon = Polygon(p)\n",
    "        outline = LinearRing(p)\n",
    "        l,w = outline.xy\n",
    "        ax.fill(l,w, label = 'Polygon ' + str(i),fill=True, alpha = 0.5)\n",
    "        polygons.append(polygon)\n",
    "        outlines.append(outline)\n",
    "        i = i + 1\n",
    "\n",
    "    map = initMapInformed(polygons, outlines, G)\n",
    "    \n",
    "    start = time.time()\n",
    "    results = AStar(S, G, map)\n",
    "    end = time.time()\n",
    "\n",
    "    map = results[0]\n",
    "    expandedNodes = results[1]\n",
    "\n",
    "    xExpanded = []\n",
    "    yExpanded = []\n",
    "    \n",
    "    for e in expandedNodes:\n",
    "        xExpanded.append(e.x)\n",
    "        yExpanded.append(e.y)\n",
    "\n",
    "    ax.plot(xExpanded,yExpanded, ',', label = \"Expanded Nodes\")\n",
    "    print(\"Time for search: \" + str(end-start))\n",
    "    \n",
    "    #if goal is unvisited, the search has failed\n",
    "    if(map[G[0]][G[1]] == 0):\n",
    "        print(\"No solution.\")\n",
    "    else:\n",
    "        path = getPathInformed(S, G, map)\n",
    "        print(\"Path cost: \" + str(len(path)))\n",
    "    \n",
    "        x = []\n",
    "        y = []\n",
    "        for p in path:\n",
    "            x.append(p[0])\n",
    "            y.append(p[1])\n",
    "        ax.plot(x,y, label = 'Path')\n",
    "    \n",
    "\n",
    "    ax.set_xlim(0,199)\n",
    "    ax.set_ylim(0,99)\n",
    "    ax.legend(bbox_to_anchor=(1, 1))"
   ]
  },
  {
   "cell_type": "markdown",
   "metadata": {},
   "source": [
    "<h1>Test Results</h1>\n",
    "<p><strong>Note:</strong>The times shown are in seconds and only show the search times. They do not include other processes like map initialization and plotting on graphs since these are roughly the same for all three implementations. This way, it is much clearer to see the differences in times of the different search algorithms.</p>"
   ]
  },
  {
   "cell_type": "markdown",
   "metadata": {},
   "source": [
    "<h2>Test Case 1 - BFS</h2>"
   ]
  },
  {
   "cell_type": "code",
   "execution_count": null,
   "metadata": {},
   "outputs": [],
   "source": [
    "BFSTest(\"testcase1.txt\")"
   ]
  },
  {
   "cell_type": "markdown",
   "metadata": {},
   "source": [
    "<h2>Test Case 1 - DFS</h2>"
   ]
  },
  {
   "cell_type": "code",
   "execution_count": null,
   "metadata": {},
   "outputs": [],
   "source": [
    "DFSTest(\"testcase1.txt\")"
   ]
  },
  {
   "cell_type": "markdown",
   "metadata": {},
   "source": [
    "<h2>Test Case 1 - A*</h2>"
   ]
  },
  {
   "cell_type": "code",
   "execution_count": null,
   "metadata": {},
   "outputs": [],
   "source": [
    "AStarTest(\"testcase1.txt\")"
   ]
  },
  {
   "cell_type": "markdown",
   "metadata": {},
   "source": [
    "<h2>Test Case 2 - BFS</h2>"
   ]
  },
  {
   "cell_type": "code",
   "execution_count": null,
   "metadata": {},
   "outputs": [],
   "source": [
    "BFSTest(\"testcase2.txt\")"
   ]
  },
  {
   "cell_type": "markdown",
   "metadata": {},
   "source": [
    "<h2>Test Case 2 - DFS</h2>"
   ]
  },
  {
   "cell_type": "code",
   "execution_count": null,
   "metadata": {},
   "outputs": [],
   "source": [
    "DFSTest(\"testcase2.txt\")"
   ]
  },
  {
   "cell_type": "markdown",
   "metadata": {},
   "source": [
    "<h2>Test Case 2 - A*</h2>"
   ]
  },
  {
   "cell_type": "code",
   "execution_count": null,
   "metadata": {},
   "outputs": [],
   "source": [
    "AStarTest(\"testcase2.txt\")"
   ]
  },
  {
   "cell_type": "markdown",
   "metadata": {},
   "source": [
    "<h2>Test Case 3 - BFS </h2>"
   ]
  },
  {
   "cell_type": "code",
   "execution_count": null,
   "metadata": {},
   "outputs": [],
   "source": [
    "BFSTest(\"testcase3.txt\")"
   ]
  },
  {
   "cell_type": "markdown",
   "metadata": {},
   "source": [
    "<h2>Test Case 3 - DFS</h2>"
   ]
  },
  {
   "cell_type": "code",
   "execution_count": null,
   "metadata": {},
   "outputs": [],
   "source": [
    "DFSTest(\"testcase3.txt\")"
   ]
  },
  {
   "cell_type": "markdown",
   "metadata": {},
   "source": [
    "<h2>Test Case 3 - A*</h2>"
   ]
  },
  {
   "cell_type": "code",
   "execution_count": null,
   "metadata": {},
   "outputs": [],
   "source": [
    "AStarTest(\"testcase3.txt\")"
   ]
  },
  {
   "cell_type": "markdown",
   "metadata": {},
   "source": [
    "<h1>Analysis</h1>"
   ]
  },
  {
   "cell_type": "markdown",
   "metadata": {},
   "source": [
    "<h2>Breadth First Search</h2>\n",
    "\n",
    "<p><strong>Completeness</strong> - As long as a solution exists, breadth first search will always find a solution. For this implementation, the algorithm was able to find a solution for all test cases.</p>\n",
    "\n",
    "<p><strong>Optimality</strong> - Since the step cost is always one as the path moves to the goal, then this implementation of BFS will always find an optimal solution.</p>\n",
    "\n",
    "<p><strong>Number of nodes generated</strong> -  As mentioned before, this implementation has a branching factor of 4. In a worst case scenario, the start would be in one corner and the goal in another, then the depth of the created tree would be about 300. That's a total of roughlt 4^300 nodes. Forunately, the space is only a 100x200 grid giving a maximum of 20000 nodes.</p>\n",
    "\n",
    "<p><strong>Space Complexity</strong> - Not counting arrays created for inputs and outputs (such as the polygon arrays and the path array), the worst case space complexity of the BFS algorithm is also 100x200. Since the program stores parent node coordinates in the child nodes, the generated tree can be created using the 100x200 space. (This is with a worst case scenario where the algorithm expands all nodes).</p>\n",
    "\n",
    "<p><strong>Time Complexity</strong> - Similar to the space complexity, the worst case time complexity of this program is (100x200)n. That is, at the worst case, it has to expand all 100x200 nodes. (If the space was much larger, the time complexity would also be around 4^300)"
   ]
  },
  {
   "cell_type": "markdown",
   "metadata": {},
   "source": [
    "<h1>Depth First Search</h1>\n",
    "<p><strong>Completeness</strong>- As long as a solution exists, the depth first search will always find a solution. For this implementation, the algorithm was able to find a solution for all test cases.</p>\n",
    "\n",
    "<p><strong>Optimality</strong>- Although the depth first search algorithm can always find a solution, the solution it finds is not always optimal. In Test Cases 1-3, the DFS was able to find a solution by going down one branch of the tree until it found a solution. The result is that all the expanded nodes become part of the path to the goal.</p>\n",
    "\n",
    "<p><strong>Number of nodes generated</strong>- The DFS can sometimes expand fewer nodes than the BFS. This especially occurs when the goal can be found down the first few branches that the DFS algorithm goes, such as in Test Case 3. This gives the result wherein the path nodes are the same as the expanded nodes. However, most of the time, it expands more nodes than BFS. At the worst case scenario, it is still possible for the DFS to expand almost all nodes. In the case of this specific implementation, this occurs when the goal state is at least two spaces behind the start node (goalPosx = startPosx - 2). This is because the nodes to the left of the expanded node are added to the fringe first (meaning they are expanded last out of the four visited nodes). When this occurs, the DFS can also expand at most 100x200 nodes.</p>\n",
    "\n",
    "<p><strong>Space Complexity</strong>- The worst case space complexity of DFS for this, is also at 100x200. This is the maximum possible depth of the goal node in this implementation. That is, </p>\n",
    "\n",
    "<p><strong>Time Complexity</strong>- The worst case time complexity is also 100x200. This occurs, again, when the DFS has to expand all nodes.</p>"
   ]
  },
  {
   "cell_type": "markdown",
   "metadata": {},
   "source": [
    "<h1>Worst Case Tests</h1>"
   ]
  },
  {
   "cell_type": "code",
   "execution_count": null,
   "metadata": {},
   "outputs": [],
   "source": [
    "BFSTest(\"BFSworstcase.txt\")"
   ]
  },
  {
   "cell_type": "code",
   "execution_count": null,
   "metadata": {},
   "outputs": [],
   "source": [
    "DFSTest(\"DFSworstcase.txt\")"
   ]
  },
  {
   "cell_type": "markdown",
   "metadata": {},
   "source": [
    "<h1>No Solution Test</h1>\n",
    "<p>Additionally, here are some tests for an input with no solution</p>"
   ]
  },
  {
   "cell_type": "markdown",
   "metadata": {},
   "source": [
    "<h3>BFS - No solution</h3>"
   ]
  },
  {
   "cell_type": "code",
   "execution_count": null,
   "metadata": {},
   "outputs": [],
   "source": [
    "BFSTest(\"nosolution.txt\")"
   ]
  },
  {
   "cell_type": "markdown",
   "metadata": {},
   "source": [
    "<h3>DFS - No solution</h3>"
   ]
  },
  {
   "cell_type": "code",
   "execution_count": null,
   "metadata": {},
   "outputs": [],
   "source": [
    "DFSTest(\"nosolution.txt\")"
   ]
  },
  {
   "cell_type": "markdown",
   "metadata": {},
   "source": [
    "<h3>A* - No solution</h3>"
   ]
  },
  {
   "cell_type": "code",
   "execution_count": null,
   "metadata": {},
   "outputs": [],
   "source": [
    "AStarTest(\"nosolution.txt\")"
   ]
  }
 ],
 "metadata": {
  "kernelspec": {
   "display_name": "Python 3",
   "language": "python",
   "name": "python3"
  },
  "language_info": {
   "codemirror_mode": {
    "name": "ipython",
    "version": 3
   },
   "file_extension": ".py",
   "mimetype": "text/x-python",
   "name": "python",
   "nbconvert_exporter": "python",
   "pygments_lexer": "ipython3",
   "version": "3.7.1"
  }
 },
 "nbformat": 4,
 "nbformat_minor": 2
}

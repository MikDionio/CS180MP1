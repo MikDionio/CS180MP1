{
 "cells": [
  {
   "cell_type": "markdown",
   "metadata": {},
   "source": [
    "<h1>CS180 MP1</h1>"
   ]
  },
  {
   "cell_type": "markdown",
   "metadata": {},
   "source": [
    "<h2>Imported libraries</h2>"
   ]
  },
  {
   "cell_type": "code",
   "execution_count": 1,
   "metadata": {},
   "outputs": [],
   "source": [
    "#Imported libraries\n",
    "import math\n",
    "from shapely.geometry import Point, Polygon, LinearRing\n",
    "from matplotlib import pyplot as plt"
   ]
  },
  {
   "cell_type": "markdown",
   "metadata": {},
   "source": [
    "<h2>Miscellaneous Functions</h2>"
   ]
  },
  {
   "cell_type": "code",
   "execution_count": 2,
   "metadata": {},
   "outputs": [],
   "source": [
    "#Functions\n",
    "\n",
    "#Obtain input file name from user or as a parameter to the function, returns text from entire file, ensure input file is in same directory\n",
    "def fileInput():\n",
    "    fileName = input(\"Input filename: \")\n",
    "    f = open(fileName, 'r')\n",
    "    fileTxt = f.read()\n",
    "    f.close()\n",
    "    return fileTxt\n",
    "\n",
    "#Turns a string of \"(x,y)\" into a tuple of (x,y)\n",
    "def textToTuple(text):\n",
    "    text = text.replace(\"(\",\"\")\n",
    "    text = text.replace(\")\",\"\")\n",
    "    text = text.replace(\"\\n\",\"\")\n",
    "    text = text.split(\",\")\n",
    "    # print(text)\n",
    "    return ((int(text[0]),int(text[1])))"
   ]
  },
  {
   "cell_type": "markdown",
   "metadata": {},
   "source": [
    "<h1>Input and Parsing</h1>"
   ]
  },
  {
   "cell_type": "markdown",
   "metadata": {},
   "source": [
    "<p>The Input function takes in the fileTxt and parses it to obtain the Start Position, the Goal Positon and the Polygon vertices.</p>\n",
    "<p>The function returns an input array of tuples where input[0] is the start position, input[1] is the goal positon, and the remaining entries are arrays of vertices for each polygon</p>"
   ]
  },
  {
   "cell_type": "code",
   "execution_count": 3,
   "metadata": {},
   "outputs": [],
   "source": [
    "def Input(fileTxt):\n",
    "\n",
    "    #Divide input text by line\n",
    "    fileTxt = fileTxt.split('\\n')\n",
    "\n",
    "    #First line is start pos\n",
    "    startPos = textToTuple(fileTxt.pop(0))\n",
    "\n",
    "    #Next line is goal pos\n",
    "    goalPos = textToTuple(fileTxt.pop(0))\n",
    "\n",
    "    #Remove potential empty lines from of list\n",
    "    i = 0\n",
    "    for t in fileTxt:\n",
    "        if (t == \"\"):\n",
    "            fileTxt.pop(i)\n",
    "        i = i + 1\n",
    "    \n",
    "    #Obtain polygon vertices\n",
    "    polygons = []\n",
    "    i = 0\n",
    "    for p in fileTxt:\n",
    "        p = p.replace(\"(\",\"\")\n",
    "        p = p.replace(\")\",\"\")\n",
    "        p = p.split(\",\")\n",
    "        k = 0\n",
    "        vertices = []\n",
    "        while(k*2 < len(p)):\n",
    "            vertices.append((int(p[2*k]),int(p[2*k+1])))\n",
    "            k = k + 1\n",
    "        polygons.append(vertices)\n",
    "        i = i + 1\n",
    "\n",
    "    #Print inputs\n",
    "    print(\"Start Position: \" + str(startPos))\n",
    "    print(\"Goal Position: \" + str(goalPos))\n",
    "    i = 1\n",
    "    for p in polygons:\n",
    "        print(\"Polygon \" + str(i) + \" vertices: \" + str(p))\n",
    "        i = i + 1\n",
    "\n",
    "    inputs = []\n",
    "    inputs.append(startPos)\n",
    "    inputs.append(goalPos)\n",
    "    for p in polygons:\n",
    "        inputs.append(p)\n",
    "\n",
    "    return inputs"
   ]
  },
  {
   "cell_type": "markdown",
   "metadata": {},
   "source": [
    "<h1>Uninformed Search Related Functions</h1>\n",
    "<p>Functions used in conjunction with BFS and DFS</p>"
   ]
  },
  {
   "cell_type": "markdown",
   "metadata": {},
   "source": [
    "<h2>initMapUninformed</h2>\n",
    "<p>initMapUninformed initializes a 100x200 array and sets each value to 0, indicating that all spaces are unvisited</p>"
   ]
  },
  {
   "cell_type": "code",
   "execution_count": 4,
   "metadata": {},
   "outputs": [],
   "source": [
    "def initMapUninformed(polygons, outlines):\n",
    "    map = [[] for i in range(201)]\n",
    "\n",
    "    #List all values for map as 0, meaning they have not been visited yet or -1 if they are inside a polygon\n",
    "    for i in range (201):\n",
    "        for j in range(101):\n",
    "            map[i].append(0)\n",
    "            p = Point([i,j])\n",
    "            for polygon in polygons:\n",
    "                if(p.within(polygon)):\n",
    "                    map[i][j] = -1\n",
    "            for outline in outlines:\n",
    "                if(p.within(outline)):\n",
    "                    map[i][j] = -1\n",
    "\n",
    "    return map"
   ]
  },
  {
   "cell_type": "markdown",
   "metadata": {},
   "source": [
    "<h2>getPathUninformed</h2>\n",
    "<p>For both the BFS and DFS implementation in this program, each visited node in the 100x200 array is given the position of its parent node, that is, the node that was expanded before the visited node was visited. This function makes use of that to obtain the path. This function starts at the goal position and inspects its value to obtain its parent node, whose position is inserted at the start of the path array. The function then goes to the parent node to obtain the position of the 'grandparent' node and again inserts it into the path array. The function loops this until it arrives at the start node. It then returns the path array.</p>"
   ]
  },
  {
   "cell_type": "code",
   "execution_count": 5,
   "metadata": {},
   "outputs": [],
   "source": [
    "def getPathUninformed(S,G,map):\n",
    "    path = []\n",
    "    path.append(G)\n",
    "    p = G\n",
    "    while(path[0] != S):\n",
    "        p = (map[p[0]][p[1]])\n",
    "        path.insert(0,p)\n",
    "\n",
    "    return path"
   ]
  },
  {
   "cell_type": "markdown",
   "metadata": {},
   "source": [
    "<h1>Uninformed Search Algorithm Implementations</h1>"
   ]
  },
  {
   "cell_type": "markdown",
   "metadata": {},
   "source": [
    "<h2>Breadth First Search Implementation</h2>\n",
    "\n",
    "<p>The Breadth First Search implementation in this program expands each node by visiting the nodes to the left, to the right, above, and below the expanded node. This means that the resulting tree has an expansion factor of 4. These visited nodes are then added to the end of the fringe. In order to keep track of the tree, the visited node's corresponding array element is given the value of its parent node's coordinates as a tuple. This also helps indicate that the node is visited, that is, the node's value in the array is != 0</p>"
   ]
  },
  {
   "cell_type": "code",
   "execution_count": 6,
   "metadata": {},
   "outputs": [],
   "source": [
    "def BFS(S, G, map):\n",
    "    \n",
    "    #Initialize fringe\n",
    "    fringe = [S]\n",
    "    \n",
    "    if(G == S):#If start position is goal position, place start position as entry in map\n",
    "        map[S[0]][S[1]] = S\n",
    "    else:\n",
    "        while(1):\n",
    "            if not fringe:#If fringe is empty, algorithm has failed\n",
    "                break\n",
    "\n",
    "            #Else, get expand first entry of fringe\n",
    "            n = fringe.pop(0)\n",
    "            \n",
    "            if(n == G): #If dequeued node is G, no need to expand further\n",
    "                break\n",
    "            \n",
    "            #Expand dequeued node into positions above, below, left and right of the expanded node\n",
    "            down = n[1] + 1\n",
    "            up = n[1] - 1\n",
    "            left = n[0] - 1\n",
    "            right = n[0] + 1\n",
    "\n",
    "            #If these nodes are valid, insert unvisisted nodes to fringe\n",
    "            if(201 >left >= 0):\n",
    "                if(map[left][n[1]] == 0):\n",
    "                    fringe.append((left,n[1]))\n",
    "                    map[left][n[1]] = n\n",
    "            if(0 <= right < 201):\n",
    "                if(map[right][n[1]] == 0):\n",
    "                    fringe.append((right,n[1]))\n",
    "                    map[right][n[1]] = n\n",
    "            if(101 > up >= 0):\n",
    "                if(map[n[0]][up] == 0):\n",
    "                    fringe.append((n[0],up))\n",
    "                    map[n[0]][up] = n\n",
    "            if(0 <= down < 101):\n",
    "                if(map[n[0]][down] == 0):\n",
    "                    fringe.append((n[0],down))\n",
    "                    map[n[0]][down] = n\n",
    "    return map"
   ]
  },
  {
   "cell_type": "markdown",
   "metadata": {},
   "source": [
    "<h2>Depth First Search Implementation</h2>\n",
    "<p>The depth first search implementation is very similar to the Breadth First Search implementation, with the only difference being the visited nodes are inserted at the start of the fringe instead of at the end.</p>"
   ]
  },
  {
   "cell_type": "code",
   "execution_count": 7,
   "metadata": {},
   "outputs": [],
   "source": [
    "def DFS(S, G, map):\n",
    "    #Initialize fringe\n",
    "    fringe = [S]\n",
    "    \n",
    "    \n",
    "    if(G == S):#Check if current position is goal\n",
    "        map[S[0]][S[1]] = S\n",
    "    else:\n",
    "        while(1):\n",
    "            if not fringe:\n",
    "                break\n",
    "\n",
    "            n = fringe.pop(0)\n",
    "\n",
    "            #Check if dequeued node is G\n",
    "            if(n == G):\n",
    "                break\n",
    "            #Expand dequeued node\n",
    "            down = n[1] - 1\n",
    "            up = n[1] + 1\n",
    "            left = n[0] - 1\n",
    "            right = n[0] + 1\n",
    "\n",
    "            #Insert unvisisted nodes to fringe\n",
    "            if(201 > left >= 0):\n",
    "                if(map[left][n[1]] == 0):\n",
    "                    fringe.insert(0,(left, n[1]))\n",
    "                    map[left][n[1]] = n\n",
    "            if(0 <= right < 201):\n",
    "                if(map[right][n[1]] == 0):\n",
    "                    fringe.insert(0,(right,n[1]))\n",
    "                    map[right][n[1]] = n\n",
    "            if(101 > up >= 0):\n",
    "                if(map[n[0]][up] == 0):\n",
    "                    fringe.insert(0,(n[0],up))\n",
    "                    map[n[0]][up] = n\n",
    "            if(0 <= down < 101):\n",
    "                if(map[n[0]][down] == 0):\n",
    "                    fringe.insert(0,(n[0],down))\n",
    "                    map[n[0]][down] = n\n",
    "\n",
    "    return map"
   ]
  },
  {
   "cell_type": "markdown",
   "metadata": {},
   "source": [
    "<h1>Testing and Analysis</h1>"
   ]
  },
  {
   "cell_type": "markdown",
   "metadata": {},
   "source": [
    "<h2>Functions Used for Testing</h2>"
   ]
  },
  {
   "cell_type": "markdown",
   "metadata": {},
   "source": [
    "<h3>BFS Test Function</h3>"
   ]
  },
  {
   "cell_type": "code",
   "execution_count": 8,
   "metadata": {
    "scrolled": true
   },
   "outputs": [],
   "source": [
    "def BFSTest(fileName):\n",
    "    print(\"BFS for \" + fileName)\n",
    "    fig = plt.figure(1, figsize = (15,7))\n",
    "    ax = fig.add_subplot(111)\n",
    "    ax.set_title(\"BFS for \" + fileName)\n",
    "    \n",
    "    f = open(fileName, 'r')\n",
    "    fileTxt = f.read()\n",
    "    f.close()\n",
    "\n",
    "    input = Input(fileTxt)\n",
    "    S = input.pop(0)\n",
    "    G = input.pop(0)\n",
    "\n",
    "    ax.plot(S[0],S[1], 'o', label = 'Start')\n",
    "    ax.plot(G[0],G[1], 'o', label = 'Goal')\n",
    "    \n",
    "    polygons = []\n",
    "    outlines = []\n",
    "\n",
    "    #Coordinates inside and on the perimiters of polygons are plotted for better visualization\n",
    "    i = 1\n",
    "    for p in input:\n",
    "        polygon = Polygon(p)\n",
    "        outline = LinearRing(p)\n",
    "        l,w = outline.xy\n",
    "        ax.plot(l,w, label = 'Polygon ' + str(i))\n",
    "        polygons.append(polygon)\n",
    "        outlines.append(outline)\n",
    "        i = i + 1\n",
    "\n",
    "    map = initMapUninformed(polygons, outlines)\n",
    "\n",
    "    x = []\n",
    "    y = []\n",
    "\n",
    "#     for i in range(101):\n",
    "#         for j in range(201):\n",
    "#             if(map[i][j] == -1):\n",
    "#                 x.append(i)\n",
    "#                 y.append(j)\n",
    "\n",
    "#     ax.plot(x,y, 'o', label = 'Vertices in Polygons')\n",
    "    \n",
    "    map = BFS(S, G, map)\n",
    "    path = getPathUninformed(S, G, map)\n",
    "    #print(path)\n",
    "    x = []\n",
    "    y = []\n",
    "    for p in path:\n",
    "        x.append(p[0])\n",
    "        y.append(p[1])\n",
    "    ax.plot(x,y, label = 'Path')\n",
    "    \n",
    "\n",
    "    ax.set_xlim(0,200)\n",
    "    ax.set_ylim(0,100)\n",
    "    ax.legend()"
   ]
  },
  {
   "cell_type": "markdown",
   "metadata": {},
   "source": [
    "<h3>DFS Test Function</h3>"
   ]
  },
  {
   "cell_type": "code",
   "execution_count": 9,
   "metadata": {},
   "outputs": [],
   "source": [
    "def DFSTest(fileName):\n",
    "    print(\"BFS for \" + fileName)\n",
    "    fig = plt.figure(1, figsize = (15,7))\n",
    "    ax = fig.add_subplot(111)\n",
    "    ax.set_title(\"DFS for \" + fileName)\n",
    "    \n",
    "    f = open(fileName, 'r')\n",
    "    fileTxt = f.read()\n",
    "    f.close()\n",
    "\n",
    "    input = Input(fileTxt)\n",
    "    S = input.pop(0)\n",
    "    G = input.pop(0)\n",
    "\n",
    "    ax.plot(S[0],S[1], 'o', label = 'Start')\n",
    "    ax.plot(G[0],G[1], 'o', label = 'Goal')\n",
    "    \n",
    "    polygons = []\n",
    "    outlines = []\n",
    "\n",
    "    #Coordinates inside and on the perimiters of polygons are plotted for better visualization\n",
    "    i = 1\n",
    "    for p in input:\n",
    "        polygon = Polygon(p)\n",
    "        outline = LinearRing(p)\n",
    "        l,w = outline.xy\n",
    "        ax.plot(l,w, label = 'Polygon ' + str(i))\n",
    "        polygons.append(polygon)\n",
    "        outlines.append(outline)\n",
    "        i = i + 1\n",
    "\n",
    "    map = initMapUninformed(polygons, outlines)\n",
    "\n",
    "    x = []\n",
    "    y = []\n",
    "\n",
    "#     for i in range(101):\n",
    "#         for j in range(201):\n",
    "#             if(map[i][j] == -1):\n",
    "#                 x.append(i)\n",
    "#                 y.append(j)\n",
    "\n",
    "#     ax.plot(x,y, 'o', label = 'Vertices in Polygons')\n",
    "    \n",
    "    map = DFS(S, G, map)\n",
    "    path = getPathUninformed(S, G, map)\n",
    "    #print(path)\n",
    "    x = []\n",
    "    y = []\n",
    "    for p in path:\n",
    "        x.append(p[0])\n",
    "        y.append(p[1])\n",
    "    ax.plot(x,y, label = 'Path')\n",
    "    \n",
    "\n",
    "    ax.set_xlim(0,200)\n",
    "    ax.set_ylim(0,100)\n",
    "    ax.legend()"
   ]
  },
  {
   "cell_type": "markdown",
   "metadata": {},
   "source": [
    "<h2>Test Cases 1</h2>"
   ]
  },
  {
   "cell_type": "code",
   "execution_count": 10,
   "metadata": {
    "scrolled": true
   },
   "outputs": [
    {
     "name": "stdout",
     "output_type": "stream",
     "text": [
      "BFS for input.txt\n",
      "Start Position: (2, 40)\n",
      "Goal Position: (175, 40)\n",
      "Polygon 1 vertices: [(25, 20), (25, 80), (75, 80), (75, 20)]\n"
     ]
    },
    {
     "data": {
      "image/png": "[encoded data removed]",
      "text/plain": [
       "<Figure size 1080x504 with 1 Axes>"
      ]
     },
     "metadata": {
      "needs_background": "light"
     },
     "output_type": "display_data"
    }
   ],
   "source": [
    "BFSTest(\"input.txt\")"
   ]
  },
  {
   "cell_type": "code",
   "execution_count": 11,
   "metadata": {},
   "outputs": [
    {
     "name": "stdout",
     "output_type": "stream",
     "text": [
      "BFS for input.txt\n",
      "Start Position: (2, 40)\n",
      "Goal Position: (175, 40)\n",
      "Polygon 1 vertices: [(25, 20), (25, 80), (75, 80), (75, 20)]\n"
     ]
    },
    {
     "data": {
      "image/png": "[encoded data removed]",
      "text/plain": [
       "<Figure size 1080x504 with 1 Axes>"
      ]
     },
     "metadata": {
      "needs_background": "light"
     },
     "output_type": "display_data"
    }
   ],
   "source": [
    "DFSTest(\"input.txt\")"
   ]
  }
 ],
 "metadata": {
  "kernelspec": {
   "display_name": "Python 3",
   "language": "python",
   "name": "python3"
  },
  "language_info": {
   "codemirror_mode": {
    "name": "ipython",
    "version": 3
   },
   "file_extension": ".py",
   "mimetype": "text/x-python",
   "name": "python",
   "nbconvert_exporter": "python",
   "pygments_lexer": "ipython3",
   "version": "3.7.2"
  }
 },
 "nbformat": 4,
 "nbformat_minor": 2
}
